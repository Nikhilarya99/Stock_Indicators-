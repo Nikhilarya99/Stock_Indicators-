{
 "cells": [
  {
   "cell_type": "code",
   "execution_count": 37,
   "metadata": {
    "pycharm": {
     "is_executing": false
    }
   },
   "outputs": [
    {
     "name": "stdout",
     "output_type": "stream",
     "text": [
      "     ticker       date  adj_close\n",
      "None                             \n",
      "0       WMT 2016-12-30  67.742045\n",
      "1       WMT 2016-12-29  67.879254\n",
      "2       WMT 2016-12-28  67.928257\n",
      "3       WMT 2016-12-27  68.310482\n",
      "4       WMT 2016-12-23  68.153672\n"
     ]
    }
   ],
   "source": [
    "import sys\n",
    "import quandl\n",
    "import pandas as pd\n",
    "import os\n",
    "\n",
    "quandl.ApiConfig.api_key = '4_ERbyf3sSDTz8qsDsoM'\n",
    "\n",
    "data = quandl.get_table('WIKI/PRICES', ticker = ['AAPL', 'MSFT', 'WMT'], \n",
    "                        qopts = { 'columns': ['ticker', 'date', 'adj_close'] }, \n",
    "                        date = { 'gte': '2015-12-31', 'lte': '2016-12-31' }, \n",
    "                        paginate=True)\n",
    "\n",
    "print(data.head())"
   ]
  },
  {
   "cell_type": "code",
   "execution_count": 4,
   "metadata": {
    "pycharm": {
     "is_executing": false,
     "name": "#%%\n"
    }
   },
   "outputs": [],
   "source": [
    "new= data.set_index('date')\n",
    "new=new.pivot(columns='ticker')"
   ]
  },
  {
   "cell_type": "code",
   "execution_count": 42,
   "metadata": {},
   "outputs": [
    {
     "name": "stdout",
     "output_type": "stream",
     "text": [
      "/home/blizzard/projects/Trading\n"
     ]
    }
   ],
   "source": [
    "BASE_DIR = os.getcwd()"
   ]
  },
  {
   "cell_type": "code",
   "execution_count": 5,
   "metadata": {
    "pycharm": {
     "is_executing": false,
     "name": "#%%\n"
    }
   },
   "outputs": [
    {
     "name": "stdout",
     "output_type": "stream",
     "text": [
      "             adj_close                      \n",
      "ticker            AAPL       MSFT        WMT\n",
      "date                                        \n",
      "2015-12-31  101.696810  52.829107  58.379766\n",
      "2016-01-04  101.783763  52.181598  58.532144\n",
      "2016-01-05   99.233131  52.419653  59.922592\n",
      "2016-01-06   97.291172  51.467434  60.522580\n",
      "2016-01-07   93.185040  49.677262  61.932075\n"
     ]
    }
   ],
   "source": [
    "print(new.head())"
   ]
  },
  {
   "cell_type": "code",
   "execution_count": null,
   "metadata": {
    "pycharm": {
     "name": "#%%\n"
    }
   },
   "outputs": [],
   "source": [
    "/NSE/DVL?start_date=2019-01-04&end_date=2019-01-04&api_key=4_ERbyf3sSDTz8qsDsoM\n"
   ]
  },
  {
   "cell_type": "code",
   "execution_count": 49,
   "metadata": {},
   "outputs": [
    {
     "name": "stdout",
     "output_type": "stream",
     "text": [
      "Year No:  2010\n",
      "Year No:  2011\n",
      "Year No:  2012\n",
      "Year No:  2013\n",
      "Year No:  2014\n",
      "Year No:  2015\n",
      "Year No:  2016\n",
      "Year No:  2017\n",
      "Year No:  2018\n"
     ]
    }
   ],
   "source": [
    "symbol = \"ICICIBANK\"\n",
    "icici = quandl.get('NSE/'+symbol,start_date='2018-01-01', end_date='2019-05-5')\n",
    "DIR = os.getcwd()\n",
    "for i in range(2010,2019):\n",
    "    print(\"Year No: \",i)\n",
    "    data=quandl.get('NSE/'+symbol,start_date=str(i)+'-01-01', end_date=str(i)+'-12-31')\n",
    "    if not (os.path.exists(DIR+\"/Historicaldata/\" +str(i))):\n",
    "        os.mkdir(DIR+\"/Historicaldata/\" +str(i))\n",
    "    data.to_csv(DIR+\"/Historicaldata/%s/%s-%s.csv\" % (i, symbol, i))"
   ]
  },
  {
   "cell_type": "code",
   "execution_count": 50,
   "metadata": {},
   "outputs": [],
   "source": [
    "nifty=pd.read_csv(DIR+\"/Historicaldata/ind_nifty50list.csv\")"
   ]
  },
  {
   "cell_type": "code",
   "execution_count": 55,
   "metadata": {},
   "outputs": [
    {
     "name": "stdout",
     "output_type": "stream",
     "text": [
      "0\n",
      "1\n",
      "2\n",
      "3\n",
      "4\n",
      "5\n",
      "6\n",
      "7\n",
      "8\n",
      "9\n",
      "10\n",
      "11\n",
      "12\n",
      "13\n",
      "14\n",
      "15\n",
      "16\n",
      "17\n",
      "18\n",
      "19\n",
      "20\n",
      "21\n",
      "22\n",
      "23\n",
      "24\n",
      "25\n",
      "26\n",
      "27\n",
      "28\n",
      "29\n",
      "30\n",
      "31\n",
      "32\n",
      "33\n",
      "34\n",
      "35\n",
      "36\n",
      "37\n",
      "38\n",
      "39\n",
      "40\n",
      "41\n",
      "42\n",
      "43\n",
      "44\n",
      "45\n",
      "46\n",
      "47\n",
      "48\n",
      "49\n"
     ]
    }
   ],
   "source": [
    "for ele,symbol in enumerate(list(nifty[\"Symbol\"])):\n",
    "    print (ele)"
   ]
  },
  {
   "cell_type": "code",
   "execution_count": null,
   "metadata": {},
   "outputs": [],
   "source": []
  }
 ],
 "metadata": {
  "kernelspec": {
   "display_name": "Python 3",
   "language": "python",
   "name": "python3"
  },
  "language_info": {
   "codemirror_mode": {
    "name": "ipython",
    "version": 3
   },
   "file_extension": ".py",
   "mimetype": "text/x-python",
   "name": "python",
   "nbconvert_exporter": "python",
   "pygments_lexer": "ipython3",
   "version": "3.6.7"
  },
  "pycharm": {
   "stem_cell": {
    "cell_type": "raw",
    "metadata": {
     "collapsed": false
    },
    "source": []
   }
  }
 },
 "nbformat": 4,
 "nbformat_minor": 2
}
