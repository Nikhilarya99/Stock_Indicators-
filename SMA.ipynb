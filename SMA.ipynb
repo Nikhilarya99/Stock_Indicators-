{
 "cells": [
  {
   "cell_type": "code",
   "execution_count": 1,
   "metadata": {},
   "outputs": [],
   "source": [
    "import os\n",
    "import pandas as pd\n",
    "import matplotlib.pyplot as plt\n",
    "import numpy as np"
   ]
  },
  {
   "cell_type": "code",
   "execution_count": 123,
   "metadata": {},
   "outputs": [],
   "source": [
    "BASE_DIR=os.getcwd()\n",
    "RELATIVE=\"/Historicaldata/ICICIBANK-2015-19.csv\"\n",
    "RELATIVE2=\"/Historicaldata/2018/ICICIBANK-2018.csv\"\n",
    "RELATIVE3=\"/Historicaldata/BITFINEX-BTCEUR.csv\"\n",
    "DIR=BASE_DIR + RELATIVE3"
   ]
  },
  {
   "cell_type": "code",
   "execution_count": 130,
   "metadata": {},
   "outputs": [],
   "source": [
    "df=pd.read_csv(DIR)\n",
    "df.rename(columns={'High':'Open'},inplace=True)"
   ]
  },
  {
   "cell_type": "code",
   "execution_count": 131,
   "metadata": {},
   "outputs": [
    {
     "data": {
      "text/html": [
       "<div>\n",
       "<style scoped>\n",
       "    .dataframe tbody tr th:only-of-type {\n",
       "        vertical-align: middle;\n",
       "    }\n",
       "\n",
       "    .dataframe tbody tr th {\n",
       "        vertical-align: top;\n",
       "    }\n",
       "\n",
       "    .dataframe thead th {\n",
       "        text-align: right;\n",
       "    }\n",
       "</style>\n",
       "<table border=\"1\" class=\"dataframe\">\n",
       "  <thead>\n",
       "    <tr style=\"text-align: right;\">\n",
       "      <th></th>\n",
       "      <th>Date</th>\n",
       "      <th>Open</th>\n",
       "      <th>Low</th>\n",
       "      <th>Mid</th>\n",
       "      <th>Last</th>\n",
       "      <th>Bid</th>\n",
       "      <th>Ask</th>\n",
       "      <th>Volume</th>\n",
       "    </tr>\n",
       "  </thead>\n",
       "  <tbody>\n",
       "    <tr>\n",
       "      <th>0</th>\n",
       "      <td>2019-05-24</td>\n",
       "      <td>7285.400000</td>\n",
       "      <td>6961.320263</td>\n",
       "      <td>7185.55</td>\n",
       "      <td>7185.7</td>\n",
       "      <td>7185.3</td>\n",
       "      <td>7185.8</td>\n",
       "      <td>911.112468</td>\n",
       "    </tr>\n",
       "    <tr>\n",
       "      <th>1</th>\n",
       "      <td>2019-05-23</td>\n",
       "      <td>7115.900000</td>\n",
       "      <td>6676.771740</td>\n",
       "      <td>7045.95</td>\n",
       "      <td>7045.9</td>\n",
       "      <td>7045.9</td>\n",
       "      <td>7046.0</td>\n",
       "      <td>596.415905</td>\n",
       "    </tr>\n",
       "    <tr>\n",
       "      <th>2</th>\n",
       "      <td>2019-05-22</td>\n",
       "      <td>7208.300000</td>\n",
       "      <td>6724.004278</td>\n",
       "      <td>6929.70</td>\n",
       "      <td>6929.7</td>\n",
       "      <td>6929.6</td>\n",
       "      <td>6929.8</td>\n",
       "      <td>673.027830</td>\n",
       "    </tr>\n",
       "    <tr>\n",
       "      <th>3</th>\n",
       "      <td>2019-05-21</td>\n",
       "      <td>7250.300000</td>\n",
       "      <td>7010.900000</td>\n",
       "      <td>7127.85</td>\n",
       "      <td>7134.7</td>\n",
       "      <td>7127.7</td>\n",
       "      <td>7128.0</td>\n",
       "      <td>447.824514</td>\n",
       "    </tr>\n",
       "    <tr>\n",
       "      <th>4</th>\n",
       "      <td>2019-05-20</td>\n",
       "      <td>7407.600000</td>\n",
       "      <td>6807.900000</td>\n",
       "      <td>7100.85</td>\n",
       "      <td>7105.1</td>\n",
       "      <td>7100.8</td>\n",
       "      <td>7100.9</td>\n",
       "      <td>874.053986</td>\n",
       "    </tr>\n",
       "    <tr>\n",
       "      <th>5</th>\n",
       "      <td>2019-05-19</td>\n",
       "      <td>7361.400000</td>\n",
       "      <td>6481.800000</td>\n",
       "      <td>7318.75</td>\n",
       "      <td>7310.4</td>\n",
       "      <td>7318.7</td>\n",
       "      <td>7318.8</td>\n",
       "      <td>983.012534</td>\n",
       "    </tr>\n",
       "    <tr>\n",
       "      <th>6</th>\n",
       "      <td>2019-05-18</td>\n",
       "      <td>6731.300000</td>\n",
       "      <td>6455.192028</td>\n",
       "      <td>6531.00</td>\n",
       "      <td>6544.1</td>\n",
       "      <td>6530.9</td>\n",
       "      <td>6531.1</td>\n",
       "      <td>870.741997</td>\n",
       "    </tr>\n",
       "    <tr>\n",
       "      <th>7</th>\n",
       "      <td>2019-05-17</td>\n",
       "      <td>7075.604347</td>\n",
       "      <td>6262.400000</td>\n",
       "      <td>6540.05</td>\n",
       "      <td>6540.1</td>\n",
       "      <td>6540.0</td>\n",
       "      <td>6540.1</td>\n",
       "      <td>1828.086307</td>\n",
       "    </tr>\n",
       "    <tr>\n",
       "      <th>8</th>\n",
       "      <td>2019-05-16</td>\n",
       "      <td>7449.100000</td>\n",
       "      <td>6890.900000</td>\n",
       "      <td>7045.85</td>\n",
       "      <td>7048.0</td>\n",
       "      <td>7045.2</td>\n",
       "      <td>7046.5</td>\n",
       "      <td>1370.944220</td>\n",
       "    </tr>\n",
       "    <tr>\n",
       "      <th>9</th>\n",
       "      <td>2019-05-15</td>\n",
       "      <td>7320.800000</td>\n",
       "      <td>6986.500000</td>\n",
       "      <td>7236.45</td>\n",
       "      <td>7238.4</td>\n",
       "      <td>7236.4</td>\n",
       "      <td>7236.5</td>\n",
       "      <td>1463.591290</td>\n",
       "    </tr>\n",
       "  </tbody>\n",
       "</table>\n",
       "</div>"
      ],
      "text/plain": [
       "         Date         Open          Low      Mid    Last     Bid     Ask  \\\n",
       "0  2019-05-24  7285.400000  6961.320263  7185.55  7185.7  7185.3  7185.8   \n",
       "1  2019-05-23  7115.900000  6676.771740  7045.95  7045.9  7045.9  7046.0   \n",
       "2  2019-05-22  7208.300000  6724.004278  6929.70  6929.7  6929.6  6929.8   \n",
       "3  2019-05-21  7250.300000  7010.900000  7127.85  7134.7  7127.7  7128.0   \n",
       "4  2019-05-20  7407.600000  6807.900000  7100.85  7105.1  7100.8  7100.9   \n",
       "5  2019-05-19  7361.400000  6481.800000  7318.75  7310.4  7318.7  7318.8   \n",
       "6  2019-05-18  6731.300000  6455.192028  6531.00  6544.1  6530.9  6531.1   \n",
       "7  2019-05-17  7075.604347  6262.400000  6540.05  6540.1  6540.0  6540.1   \n",
       "8  2019-05-16  7449.100000  6890.900000  7045.85  7048.0  7045.2  7046.5   \n",
       "9  2019-05-15  7320.800000  6986.500000  7236.45  7238.4  7236.4  7236.5   \n",
       "\n",
       "        Volume  \n",
       "0   911.112468  \n",
       "1   596.415905  \n",
       "2   673.027830  \n",
       "3   447.824514  \n",
       "4   874.053986  \n",
       "5   983.012534  \n",
       "6   870.741997  \n",
       "7  1828.086307  \n",
       "8  1370.944220  \n",
       "9  1463.591290  "
      ]
     },
     "execution_count": 131,
     "metadata": {},
     "output_type": "execute_result"
    }
   ],
   "source": [
    "df.head(10)"
   ]
  },
  {
   "cell_type": "code",
   "execution_count": 132,
   "metadata": {},
   "outputs": [
    {
     "data": {
      "text/plain": [
       "(536, 1)"
      ]
     },
     "execution_count": 132,
     "metadata": {},
     "output_type": "execute_result"
    }
   ],
   "source": [
    "df_open=df.loc[:,[\"Open\"]]\n",
    "df_open.shape"
   ]
  },
  {
   "cell_type": "code",
   "execution_count": 133,
   "metadata": {},
   "outputs": [
    {
     "data": {
      "text/plain": [
       "[<matplotlib.lines.Line2D at 0x7f1442ef8668>]"
      ]
     },
     "execution_count": 133,
     "metadata": {},
     "output_type": "execute_result"
    },
    {
     "data": {
      "image/png": "[encoded data removed]",
      "text/plain": [
       "<Figure size 432x288 with 1 Axes>"
      ]
     },
     "metadata": {
      "needs_background": "light"
     },
     "output_type": "display_data"
    }
   ],
   "source": [
    "plt.plot(df_open[\"Open\"])"
   ]
  },
  {
   "cell_type": "code",
   "execution_count": 134,
   "metadata": {},
   "outputs": [],
   "source": [
    "def SMA(df,x):\n",
    "    if not (len(df.columns)==1):\n",
    "        print(\"Check the dimension\")\n",
    "        return\n",
    "    zero_data=np.zeros(shape=(df.size,1))\n",
    "    df_sma=pd.DataFrame(zero_data,columns=df.columns)\n",
    "\n",
    "    for i in range(0,df_sma.size):\n",
    "        if x==1:\n",
    "            ma=df.iloc[i,0]\n",
    "        if i<x-1:\n",
    "            ma=df.iloc[:i,0].mean()\n",
    "            df_sma.iloc[i,0]=ma\n",
    "        else:    \n",
    "            df_sma.iloc[i,0]=ma\n",
    "            try:\n",
    "                ma=ma -df.iloc[i-x+1,0]/x+df.iloc[i+1,0]/x\n",
    "            except:\n",
    "                pass\n",
    "\n",
    "    return df_sma\n",
    "            \n",
    "    \n",
    "    "
   ]
  },
  {
   "cell_type": "code",
   "execution_count": 135,
   "metadata": {},
   "outputs": [],
   "source": [
    "def EMA(df,x,s=2):\n",
    "    if not (len(df.columns)==1):\n",
    "        print(\"Check the dimension\")\n",
    "        return\n",
    "    zero_data=np.zeros(shape=(df.size,1))\n",
    "    df_ema=pd.DataFrame(zero_data,columns=df.columns)\n",
    "\n",
    "    for i in range(0,df_ema.size):\n",
    "        if x==1:\n",
    "            ema=df.iloc[i,0]\n",
    "        elif i<x-1:\n",
    "            ema=df.iloc[:i,0].mean()\n",
    "            df_ema.iloc[i,0]=ema\n",
    "        else:    \n",
    "            ema=df.iloc[i,0]*s/(x+1) + df_ema.iloc[i-1,0]*(1-s/(x+1))\n",
    "            df_ema.iloc[i,0]=ema\n",
    "\n",
    "    return df_ema\n",
    "            "
   ]
  },
  {
   "cell_type": "code",
   "execution_count": 136,
   "metadata": {},
   "outputs": [],
   "source": [
    "df_sma=SMA(df_open,13)\n",
    "df_ema=EMA(df_open,13,2)"
   ]
  },
  {
   "cell_type": "code",
   "execution_count": 137,
   "metadata": {},
   "outputs": [
    {
     "data": {
      "text/plain": [
       "<matplotlib.legend.Legend at 0x7f1442f27d30>"
      ]
     },
     "execution_count": 137,
     "metadata": {},
     "output_type": "execute_result"
    },
    {
     "data": {
      "image/png": "[encoded data removed]",
      "text/plain": [
       "<Figure size 432x288 with 1 Axes>"
      ]
     },
     "metadata": {
      "needs_background": "light"
     },
     "output_type": "display_data"
    }
   ],
   "source": [
    "plt.plot(df_sma.loc[50:,[\"Open\"]],label=\"sma\")\n",
    "plt.plot(df_ema.loc[50:,[\"Open\"]],label=\"ema\")\n",
    "plt.plot(df.loc[50:,[\"Open\"]],label=\"price\")\n",
    "\n",
    "plt.legend()\n"
   ]
  },
  {
   "cell_type": "code",
   "execution_count": 138,
   "metadata": {},
   "outputs": [
    {
     "data": {
      "text/plain": [
       "(536, 1)"
      ]
     },
     "execution_count": 138,
     "metadata": {},
     "output_type": "execute_result"
    }
   ],
   "source": [
    "df_sma.shape"
   ]
  },
  {
   "cell_type": "code",
   "execution_count": 147,
   "metadata": {},
   "outputs": [],
   "source": [
    "def profit_sma(start,end,intial=100000):\n",
    "    crossing=[]\n",
    "    profit=0\n",
    "    i=start\n",
    "\n",
    "    while i<end:\n",
    "        if(df_sma.iloc[i,0]<df_open.iloc[i,0]):\n",
    "    #         BuyIng Point\n",
    "            t0=i\n",
    "            shares=initial/df_open.iloc[i,0]\n",
    "            while(df_sma.iloc[i,0]<df_open.iloc[i,0] and i<end):\n",
    "                i=i+1\n",
    "            profit+=(df_open.iloc[i,0]-df_open.iloc[t0,0])*shares\n",
    "            crossing.append([t0,i])\n",
    "            t0=i\n",
    "        i=i+1\n",
    "\n",
    "    if(df_open.iloc[i,0]>df_open.iloc[t0,0]):\n",
    "        profit+=(df_open.iloc[i,0]-df_open.iloc[t0,0])*shares\n",
    "    print(len(crossing))\n",
    "\n",
    "    print(\"Profit Earned in sma: %s (%s%%)\" % (profit,profit/initial*100))       "
   ]
  },
  {
   "cell_type": "code",
   "execution_count": 148,
   "metadata": {},
   "outputs": [],
   "source": [
    "def profit_ema(start,end,intial=100000):\n",
    "    crossing=[]\n",
    "    profit=0\n",
    "    i=start\n",
    "\n",
    "    while i<end:\n",
    "        if(df_ema.iloc[i,0]<df_open.iloc[i,0]):\n",
    "    #         BuyIng Point\n",
    "            t0=i\n",
    "            shares=initial/df_open.iloc[i,0]\n",
    "            while(df_ema.iloc[i,0]<df_open.iloc[i,0] and i<end):\n",
    "                i=i+1\n",
    "            profit+=(df_open.iloc[i,0]-df_open.iloc[t0,0])*shares\n",
    "            crossing.append([t0,i])\n",
    "            t0=i\n",
    "        i=i+1\n",
    "\n",
    "    if(df_open.iloc[i,0]>df_open.iloc[t0,0]):\n",
    "        profit+=(df_open.iloc[i,0]-df_open.iloc[t0,0])*shares\n",
    "        print(len(crossing))\n",
    "\n",
    "        print(\"Profit Earned in ema: %s (%s%%)\" % (profit,profit/initial*100))          "
   ]
  },
  {
   "cell_type": "code",
   "execution_count": 149,
   "metadata": {},
   "outputs": [
    {
     "name": "stdout",
     "output_type": "stream",
     "text": [
      "33\n",
      "Profit Earned in ema: 85887.9226413956 (85.8879226413956%)\n"
     ]
    }
   ],
   "source": [
    "profit_ema(50,500)"
   ]
  },
  {
   "cell_type": "code",
   "execution_count": 150,
   "metadata": {},
   "outputs": [
    {
     "name": "stdout",
     "output_type": "stream",
     "text": [
      "30\n",
      "Profit Earned in sma: 93567.94644473329 (93.56794644473328%)\n"
     ]
    }
   ],
   "source": [
    "profit_sma(50,500)"
   ]
  },
  {
   "cell_type": "code",
   "execution_count": null,
   "metadata": {},
   "outputs": [],
   "source": []
  },
  {
   "cell_type": "code",
   "execution_count": null,
   "metadata": {},
   "outputs": [],
   "source": [
    "\n",
    "\n",
    "\n",
    "\n"
   ]
  }
 ],
 "metadata": {
  "kernelspec": {
   "display_name": "Python 3",
   "language": "python",
   "name": "python3"
  },
  "language_info": {
   "codemirror_mode": {
    "name": "ipython",
    "version": 3
   },
   "file_extension": ".py",
   "mimetype": "text/x-python",
   "name": "python",
   "nbconvert_exporter": "python",
   "pygments_lexer": "ipython3",
   "version": "3.6.7"
  }
 },
 "nbformat": 4,
 "nbformat_minor": 2
}
