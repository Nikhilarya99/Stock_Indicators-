{
 "cells": [
  {
   "cell_type": "code",
   "execution_count": 3,
   "metadata": {},
   "outputs": [],
   "source": [
    "import os\n",
    "import pandas as pd\n",
    "import matplotlib.pyplot as plt\n",
    "import numpy as np"
   ]
  },
  {
   "cell_type": "code",
   "execution_count": 4,
   "metadata": {},
   "outputs": [],
   "source": [
    "BASE_DIR=os.getcwd()\n",
    "RELATIVE=\"/Historicaldata/ICICIBANK-2015-19.csv\"\n",
    "RELATIVE2=\"/Historicaldata/2018/ICICIBANK-2018.csv\"\n",
    "RELATIVE3=\"/Historicaldata/BITFINEX-BTCEUR.csv\"\n",
    "RELATIVE4=\"/Historicaldata/ICICIBANK.csv\"\n",
    "DIR=BASE_DIR + RELATIVE4"
   ]
  },
  {
   "cell_type": "code",
   "execution_count": 5,
   "metadata": {},
   "outputs": [],
   "source": [
    "df=pd.read_csv(DIR)\n",
    "# df.rename(columns={'High':'Open'},inplace=True)"
   ]
  },
  {
   "cell_type": "code",
   "execution_count": 6,
   "metadata": {},
   "outputs": [
    {
     "data": {
      "text/html": [
       "<div>\n",
       "<style scoped>\n",
       "    .dataframe tbody tr th:only-of-type {\n",
       "        vertical-align: middle;\n",
       "    }\n",
       "\n",
       "    .dataframe tbody tr th {\n",
       "        vertical-align: top;\n",
       "    }\n",
       "\n",
       "    .dataframe thead th {\n",
       "        text-align: right;\n",
       "    }\n",
       "</style>\n",
       "<table border=\"1\" class=\"dataframe\">\n",
       "  <thead>\n",
       "    <tr style=\"text-align: right;\">\n",
       "      <th></th>\n",
       "      <th>Date</th>\n",
       "      <th>Open</th>\n",
       "      <th>High</th>\n",
       "      <th>Low</th>\n",
       "      <th>Close</th>\n",
       "      <th>Adj Close</th>\n",
       "      <th>Volume</th>\n",
       "    </tr>\n",
       "  </thead>\n",
       "  <tbody>\n",
       "    <tr>\n",
       "      <th>0</th>\n",
       "      <td>2010-06-10</td>\n",
       "      <td>149.600006</td>\n",
       "      <td>151.673004</td>\n",
       "      <td>148.000000</td>\n",
       "      <td>150.735992</td>\n",
       "      <td>87.830688</td>\n",
       "      <td>19786860.0</td>\n",
       "    </tr>\n",
       "    <tr>\n",
       "      <th>1</th>\n",
       "      <td>2010-06-11</td>\n",
       "      <td>153.636002</td>\n",
       "      <td>154.544998</td>\n",
       "      <td>151.235992</td>\n",
       "      <td>153.817993</td>\n",
       "      <td>89.626503</td>\n",
       "      <td>20875124.0</td>\n",
       "    </tr>\n",
       "    <tr>\n",
       "      <th>2</th>\n",
       "      <td>2010-06-14</td>\n",
       "      <td>155.455002</td>\n",
       "      <td>156.182007</td>\n",
       "      <td>153.345001</td>\n",
       "      <td>155.209000</td>\n",
       "      <td>90.437012</td>\n",
       "      <td>15172570.0</td>\n",
       "    </tr>\n",
       "    <tr>\n",
       "      <th>3</th>\n",
       "      <td>2010-06-15</td>\n",
       "      <td>155.209000</td>\n",
       "      <td>157.244995</td>\n",
       "      <td>152.600006</td>\n",
       "      <td>156.382004</td>\n",
       "      <td>91.120491</td>\n",
       "      <td>14494937.0</td>\n",
       "    </tr>\n",
       "    <tr>\n",
       "      <th>4</th>\n",
       "      <td>2010-06-16</td>\n",
       "      <td>158.000000</td>\n",
       "      <td>159.981995</td>\n",
       "      <td>156.373001</td>\n",
       "      <td>159.408997</td>\n",
       "      <td>92.884247</td>\n",
       "      <td>20689290.0</td>\n",
       "    </tr>\n",
       "    <tr>\n",
       "      <th>5</th>\n",
       "      <td>2010-06-17</td>\n",
       "      <td>159.636002</td>\n",
       "      <td>162.164001</td>\n",
       "      <td>153.817993</td>\n",
       "      <td>160.699997</td>\n",
       "      <td>93.636520</td>\n",
       "      <td>64208595.0</td>\n",
       "    </tr>\n",
       "    <tr>\n",
       "      <th>6</th>\n",
       "      <td>2010-06-18</td>\n",
       "      <td>159.291000</td>\n",
       "      <td>160.908997</td>\n",
       "      <td>157.100006</td>\n",
       "      <td>158.054993</td>\n",
       "      <td>92.095299</td>\n",
       "      <td>17517863.0</td>\n",
       "    </tr>\n",
       "    <tr>\n",
       "      <th>7</th>\n",
       "      <td>2010-06-21</td>\n",
       "      <td>159.800003</td>\n",
       "      <td>165.455002</td>\n",
       "      <td>159.199997</td>\n",
       "      <td>163.600006</td>\n",
       "      <td>95.326263</td>\n",
       "      <td>28587961.0</td>\n",
       "    </tr>\n",
       "    <tr>\n",
       "      <th>8</th>\n",
       "      <td>2010-06-22</td>\n",
       "      <td>163.091003</td>\n",
       "      <td>164.690994</td>\n",
       "      <td>161.526993</td>\n",
       "      <td>162.108994</td>\n",
       "      <td>94.457489</td>\n",
       "      <td>18128176.0</td>\n",
       "    </tr>\n",
       "    <tr>\n",
       "      <th>9</th>\n",
       "      <td>2010-06-23</td>\n",
       "      <td>161.108994</td>\n",
       "      <td>164.490997</td>\n",
       "      <td>160.281998</td>\n",
       "      <td>163.709000</td>\n",
       "      <td>95.389786</td>\n",
       "      <td>17704599.0</td>\n",
       "    </tr>\n",
       "  </tbody>\n",
       "</table>\n",
       "</div>"
      ],
      "text/plain": [
       "         Date        Open        High         Low       Close  Adj Close  \\\n",
       "0  2010-06-10  149.600006  151.673004  148.000000  150.735992  87.830688   \n",
       "1  2010-06-11  153.636002  154.544998  151.235992  153.817993  89.626503   \n",
       "2  2010-06-14  155.455002  156.182007  153.345001  155.209000  90.437012   \n",
       "3  2010-06-15  155.209000  157.244995  152.600006  156.382004  91.120491   \n",
       "4  2010-06-16  158.000000  159.981995  156.373001  159.408997  92.884247   \n",
       "5  2010-06-17  159.636002  162.164001  153.817993  160.699997  93.636520   \n",
       "6  2010-06-18  159.291000  160.908997  157.100006  158.054993  92.095299   \n",
       "7  2010-06-21  159.800003  165.455002  159.199997  163.600006  95.326263   \n",
       "8  2010-06-22  163.091003  164.690994  161.526993  162.108994  94.457489   \n",
       "9  2010-06-23  161.108994  164.490997  160.281998  163.709000  95.389786   \n",
       "\n",
       "       Volume  \n",
       "0  19786860.0  \n",
       "1  20875124.0  \n",
       "2  15172570.0  \n",
       "3  14494937.0  \n",
       "4  20689290.0  \n",
       "5  64208595.0  \n",
       "6  17517863.0  \n",
       "7  28587961.0  \n",
       "8  18128176.0  \n",
       "9  17704599.0  "
      ]
     },
     "execution_count": 6,
     "metadata": {},
     "output_type": "execute_result"
    }
   ],
   "source": [
    "df.head(10)"
   ]
  },
  {
   "cell_type": "code",
   "execution_count": 7,
   "metadata": {},
   "outputs": [
    {
     "data": {
      "text/plain": [
       "(2232, 1)"
      ]
     },
     "execution_count": 7,
     "metadata": {},
     "output_type": "execute_result"
    }
   ],
   "source": [
    "df_open=df.loc[:,[\"Open\"]]\n",
    "df_open.shape"
   ]
  },
  {
   "cell_type": "code",
   "execution_count": 10,
   "metadata": {},
   "outputs": [
    {
     "data": {
      "text/plain": [
       "[<matplotlib.lines.Line2D at 0x7efc552e02e8>]"
      ]
     },
     "execution_count": 10,
     "metadata": {},
     "output_type": "execute_result"
    },
    {
     "data": {
      "image/png": "[encoded data removed]",
      "text/plain": [
       "<Figure size 432x288 with 1 Axes>"
      ]
     },
     "metadata": {
      "needs_background": "light"
     },
     "output_type": "display_data"
    }
   ],
   "source": [
    "plt.plot(df_open[\"Open\"])"
   ]
  },
  {
   "cell_type": "code",
   "execution_count": 162,
   "metadata": {},
   "outputs": [],
   "source": [
    "# df.rename(columns={'High':'Open'},inplace=True)\n",
    "def SMA(df,x):\n",
    "    if not (len(df.columns)==1):\n",
    "        print(\"Check the dimension\")\n",
    "        return\n",
    "    zero_data=np.zeros(shape=(df.size,1))\n",
    "    df_sma=pd.DataFrame(zero_data,columns=df.columns)\n",
    "\n",
    "    for i in range(0,df_sma.size):\n",
    "        if x==1:\n",
    "            ma=df.iloc[i,0]\n",
    "        if i<x-1:\n",
    "            ma=df.iloc[:i,0].mean()\n",
    "            df_sma.iloc[i,0]=ma\n",
    "        else:    \n",
    "            df_sma.iloc[i,0]=ma\n",
    "            try:\n",
    "                ma=ma -df.iloc[i-x+1,0]/x+df.iloc[i+1,0]/x\n",
    "            except:\n",
    "                pass\n",
    "\n",
    "    return df_sma\n",
    "            \n",
    "    \n",
    "    "
   ]
  },
  {
   "cell_type": "code",
   "execution_count": 163,
   "metadata": {},
   "outputs": [],
   "source": [
    "def EMA(df,x,s=2):\n",
    "    if not (len(df.columns)==1):\n",
    "        print(\"Check the dimension\")\n",
    "        return\n",
    "    zero_data=np.zeros(shape=(df.size,1))\n",
    "    df_ema=pd.DataFrame(zero_data,columns=df.columns)\n",
    "\n",
    "    for i in range(0,df_ema.size):\n",
    "        if x==1:\n",
    "            ema=df.iloc[i,0]\n",
    "        elif i<x-1:\n",
    "            ema=df.iloc[:i,0].mean()\n",
    "            df_ema.iloc[i,0]=ema\n",
    "        else:    \n",
    "            ema=df.iloc[i,0]*s/(x+1) + df_ema.iloc[i-1,0]*(1-s/(x+1))\n",
    "            df_ema.iloc[i,0]=ema\n",
    "\n",
    "    return df_ema\n",
    "            "
   ]
  },
  {
   "cell_type": "code",
   "execution_count": 164,
   "metadata": {},
   "outputs": [],
   "source": [
    "df_sma=SMA(df_open,13)\n",
    "df_ema=EMA(df_open,13,2)"
   ]
  },
  {
   "cell_type": "code",
   "execution_count": 165,
   "metadata": {},
   "outputs": [
    {
     "data": {
      "text/plain": [
       "<matplotlib.legend.Legend at 0x7f9248d74fd0>"
      ]
     },
     "execution_count": 165,
     "metadata": {},
     "output_type": "execute_result"
    },
    {
     "data": {
      "image/png": "[encoded data removed]",
      "text/plain": [
       "<Figure size 432x288 with 1 Axes>"
      ]
     },
     "metadata": {
      "needs_background": "light"
     },
     "output_type": "display_data"
    }
   ],
   "source": [
    "plt.plot(df_sma.loc[50:,[\"Open\"]],label=\"sma\")\n",
    "plt.plot(df_ema.loc[50:,[\"Open\"]],label=\"ema\")\n",
    "plt.plot(df.loc[50:,[\"Open\"]],label=\"price\")\n",
    "\n",
    "plt.legend()\n"
   ]
  },
  {
   "cell_type": "code",
   "execution_count": 166,
   "metadata": {},
   "outputs": [
    {
     "data": {
      "text/plain": [
       "(2232, 1)"
      ]
     },
     "execution_count": 166,
     "metadata": {},
     "output_type": "execute_result"
    }
   ],
   "source": [
    "df_sma.shape"
   ]
  },
  {
   "cell_type": "code",
   "execution_count": 167,
   "metadata": {},
   "outputs": [],
   "source": [
    "def profit_sma(start,end,initial=100000):\n",
    "    crossing=[]\n",
    "    profit=0\n",
    "    i=start\n",
    "\n",
    "    while i<end:\n",
    "        if(df_sma.iloc[i,0]<df_open.iloc[i,0]):\n",
    "    #         BuyIng Point\n",
    "            t0=i\n",
    "            shares=initial/df_open.iloc[i,0]\n",
    "            while(df_sma.iloc[i,0]<df_open.iloc[i,0] and i<end):\n",
    "                i=i+1\n",
    "            profit+=(df_open.iloc[i,0]-df_open.iloc[t0,0])*shares\n",
    "            crossing.append([t0,i])\n",
    "            t0=i\n",
    "        i=i+1\n",
    "\n",
    "    if(df_open.iloc[i,0]>df_open.iloc[t0,0]):\n",
    "        profit+=(df_open.iloc[i,0]-df_open.iloc[t0,0])*shares\n",
    "    print(len(crossing))\n",
    "\n",
    "    print(\"Profit Earned in sma: %s (%s%%)\" % (profit,profit/initial*100))       "
   ]
  },
  {
   "cell_type": "code",
   "execution_count": 168,
   "metadata": {},
   "outputs": [],
   "source": [
    "def profit_ema(start,end,initial=100000):\n",
    "    crossing=[]\n",
    "    profit=0\n",
    "    i=start\n",
    "\n",
    "    while i<end:\n",
    "        if(df_ema.iloc[i,0]<df_open.iloc[i,0]):\n",
    "    #         BuyIng Point\n",
    "            t0=i\n",
    "            shares=initial/df_open.iloc[i,0]\n",
    "            while(df_ema.iloc[i,0]<df_open.iloc[i,0] and i<end):\n",
    "                i=i+1\n",
    "            profit+=(df_open.iloc[i,0]-df_open.iloc[t0,0])*shares\n",
    "            crossing.append([t0,i])\n",
    "            t0=i\n",
    "        i=i+1\n",
    "\n",
    "    if(df_open.iloc[i,0]>df_open.iloc[t0,0]):\n",
    "        profit+=(df_open.iloc[i,0]-df_open.iloc[t0,0])*shares\n",
    "        print(len(crossing))\n",
    "\n",
    "        print(\"Profit Earned in ema: %s (%s%%)\" % (profit,profit/initial*100))          "
   ]
  },
  {
   "cell_type": "code",
   "execution_count": 169,
   "metadata": {},
   "outputs": [],
   "source": [
    "profit_ema(50,500)"
   ]
  },
  {
   "cell_type": "code",
   "execution_count": 170,
   "metadata": {},
   "outputs": [
    {
     "name": "stdout",
     "output_type": "stream",
     "text": [
      "30\n",
      "Profit Earned in sma: nan (nan%)\n"
     ]
    }
   ],
   "source": [
    "profit_sma(50,500)"
   ]
  },
  {
   "cell_type": "code",
   "execution_count": 171,
   "metadata": {},
   "outputs": [],
   "source": [
    "class EMA():\n",
    "    def __init__(self,days=20,smoothing=2):\n",
    "        self.x=days\n",
    "        self.s=smoothing\n",
    "    def model(self,df):\n",
    "        if not len(df.columns)==1:\n",
    "            raise ValueError(\"Number of Columns should be one\")\n",
    "        \n",
    "        zero_data=np.zeros(shape=(df.size,1))\n",
    "        df_ema=pd.DataFrame(zero_data,columns=df.columns)\n",
    "\n",
    "        for i in range(0,df_ema.size):\n",
    "            if self.x==1:\n",
    "                ema=df.iloc[i,0]\n",
    "            elif i<self.x-1:\n",
    "                ema=df.iloc[:i,0].mean()\n",
    "                df_ema.iloc[i,0]=ema\n",
    "            else:    \n",
    "                ema=df.iloc[i,0]*self.s/(self.x+1) + df_ema.iloc[i-1,0]*(1-self.s/(self.x+1))\n",
    "                df_ema.iloc[i,0]=ema\n",
    "        self.df_ema=df_ema\n",
    "        \n",
    "    def model_profit_history(self,df,start,end,initial=100000):\n",
    "        crossing=[]\n",
    "        profit=0\n",
    "        i=start\n",
    "        self.model(df)\n",
    "        if(end>self.df_ema.size):\n",
    "            raise ValueError(\"Data not available for given range\")\n",
    "\n",
    "        while i<end:\n",
    "            if(self.df_ema.iloc[i,0]<df.iloc[i,0]):\n",
    "        #         BuyIng Point\n",
    "                t0=i\n",
    "                shares=initial/df.iloc[i,0]\n",
    "                while(self.df_ema.iloc[i,0]<df.iloc[i,0] and i<end):\n",
    "                    i=i+1\n",
    "                profit+=(df.iloc[i,0]-df.iloc[t0,0])*shares\n",
    "                crossing.append([t0,i])\n",
    "                t0=i\n",
    "            else:\n",
    "                i=i+1\n",
    "\n",
    "#         if(df.iloc[i,0]>df.iloc[t0,0]):\n",
    "#             profit+=(df.iloc[i,0]-df.iloc[t0,0])*shares\n",
    "        print(len(crossing))\n",
    "\n",
    "        print(\"Profit Earned in ema: %s (%s%%)\" % (profit,profit/initial*100))\n",
    "\n",
    "        "
   ]
  },
  {
   "cell_type": "code",
   "execution_count": 172,
   "metadata": {},
   "outputs": [],
   "source": [
    "s=EMA()"
   ]
  },
  {
   "cell_type": "code",
   "execution_count": 173,
   "metadata": {},
   "outputs": [],
   "source": [
    "s.model(df_open)"
   ]
  },
  {
   "cell_type": "code",
   "execution_count": 174,
   "metadata": {},
   "outputs": [
    {
     "name": "stdout",
     "output_type": "stream",
     "text": [
      "32\n",
      "Profit Earned in ema: nan (nan%)\n"
     ]
    }
   ],
   "source": [
    "s.model_profit_history(df_open,50,500)"
   ]
  },
  {
   "cell_type": "code",
   "execution_count": 20,
   "metadata": {},
   "outputs": [],
   "source": [
    "class SMA():\n",
    "    def __init__(self,days=20):\n",
    "        self.x=days\n",
    "    def model(self,df):\n",
    "        if not len(df.columns)==1:\n",
    "            raise ValueError(\"Number of Columns should be one\")\n",
    "        \n",
    "        zero_data=np.zeros(shape=(df.size,1))\n",
    "        df_sma=pd.DataFrame(zero_data,columns=df.columns)\n",
    "\n",
    "        for i in range(0,df_sma.size):\n",
    "            if self.x==1:\n",
    "                ma=df.iloc[i,0]\n",
    "            if i<self.x-1:\n",
    "                ma=df.iloc[:i,0].mean()\n",
    "                df_sma.iloc[i,0]=ma\n",
    "            else:    \n",
    "                df_sma.iloc[i,0]=ma\n",
    "                try:\n",
    "                    ma=ma -df.iloc[i-self.x+1,0]/self.x+df.iloc[i+1,0]/self.x\n",
    "                except:\n",
    "                    pass\n",
    "            self.df_sma=df_sma\n",
    "        \n",
    "    def model_profit_history(self,df,start,end,initial=100000):\n",
    "        crossing=[]\n",
    "        profit=0\n",
    "        i=start\n",
    "        self.model(df)\n",
    "        if(end>self.df_sma.size):\n",
    "            raise ValueError(\"Data not available for given range\")\n",
    "\n",
    "        while i<end:\n",
    "            if(self.df_sma.iloc[i,0]<df.iloc[i,0]):\n",
    "        #         BuyIng Point\n",
    "                t0=i\n",
    "                shares=initial/df.iloc[i,0]\n",
    "                while(self.df_sma.iloc[i,0]<df.iloc[i,0] and i<end):\n",
    "                    i=i+1\n",
    "                profit+=(df.iloc[i,0]-df.iloc[t0,0])*shares\n",
    "                crossing.append([t0,i])\n",
    "#                 t0=i\n",
    "#             i=i+1\n",
    "            else:\n",
    "                i=i+1\n",
    "#         if(df.iloc[i,0]>df.iloc[t0,0]):\n",
    "#             profit+=(df.iloc[i,0]-df.iloc[t0,0])*shares\n",
    "        print(len(crossing))\n",
    "\n",
    "        print(\"Profit Earned in sma: %s (%s%%)\" % (profit,profit/initial*100))\n",
    "\n",
    "        "
   ]
  },
  {
   "cell_type": "code",
   "execution_count": 21,
   "metadata": {},
   "outputs": [],
   "source": [
    "s2=SMA(26)"
   ]
  },
  {
   "cell_type": "code",
   "execution_count": 22,
   "metadata": {},
   "outputs": [],
   "source": [
    "s2.model(df_open)"
   ]
  },
  {
   "cell_type": "code",
   "execution_count": 23,
   "metadata": {},
   "outputs": [
    {
     "name": "stdout",
     "output_type": "stream",
     "text": [
      "38\n",
      "Profit Earned in sma: -34563.5818882188 (-34.563581888218806%)\n"
     ]
    }
   ],
   "source": [
    "s2.model_profit_history(df_open,50,800)"
   ]
  },
  {
   "cell_type": "code",
   "execution_count": 175,
   "metadata": {},
   "outputs": [],
   "source": [
    "class CCIAGent:\n",
    "    def __init__(self,days=20):\n",
    "        self.x=days\n",
    "    def model(self,df):\n",
    "        self.df=df\n",
    "        df_cci=(df-df.rolling(self.x).mean())/(0.015*df.rolling(self.x).std())\n",
    "        self.df_cci=df_cci\n",
    "                \n",
    "    def model_cci_history(self,start,end,initial=100000):\n",
    "        crossing=[]\n",
    "        profit=0\n",
    "        i=start\n",
    "        if(end>self.df.size):\n",
    "            raise ValueError(\"Data not available for given range\")\n",
    "        while i<end:\n",
    "            if(self.df_cci.iloc[i,0]==\"NaN\"):\n",
    "                i=i+1\n",
    "                continue\n",
    "            if(self.df_cci.iloc[i,0]>=100):\n",
    "                t0=i\n",
    "                shares=initial/self.df.iloc[i,0]\n",
    "                while(self.df_cci.iloc[i,0]>=-100 and i<end):\n",
    "                    i=i+1\n",
    "                profit+=(self.df.iloc[i,0]-self.df.iloc[t0,0])*shares\n",
    "                i=i+1\n",
    "            else:\n",
    "                i=i+1\n",
    "        print(\"Profit Earned in CCI: %s (%s%%)\" % (profit,profit/initial*100))\n",
    "        \n",
    "        "
   ]
  },
  {
   "cell_type": "code",
   "execution_count": 176,
   "metadata": {},
   "outputs": [],
   "source": [
    "s3=CCIAGent(50)"
   ]
  },
  {
   "cell_type": "code",
   "execution_count": 177,
   "metadata": {},
   "outputs": [],
   "source": [
    "s3.model(df_open)"
   ]
  },
  {
   "cell_type": "code",
   "execution_count": 178,
   "metadata": {},
   "outputs": [
    {
     "name": "stdout",
     "output_type": "stream",
     "text": [
      "Profit Earned in CCI: -18453.13309906322 (-18.45313309906322%)\n"
     ]
    }
   ],
   "source": [
    "s3.model_cci_history(50,500)"
   ]
  },
  {
   "cell_type": "code",
   "execution_count": 179,
   "metadata": {},
   "outputs": [
    {
     "ename": "SyntaxError",
     "evalue": "invalid syntax (<ipython-input-179-bf1e864d33ec>, line 1)",
     "output_type": "error",
     "traceback": [
      "\u001b[0;36m  File \u001b[0;32m\"<ipython-input-179-bf1e864d33ec>\"\u001b[0;36m, line \u001b[0;32m1\u001b[0m\n\u001b[0;31m    [-1]plt.plot(df_open.loc[50:,[\"Open\"]],label=\"price\")\u001b[0m\n\u001b[0m          ^\u001b[0m\n\u001b[0;31mSyntaxError\u001b[0m\u001b[0;31m:\u001b[0m invalid syntax\n"
     ]
    }
   ],
   "source": [
    "[-1]plt.plot(df_open.loc[50:,[\"Open\"]],label=\"price\")\n",
    "plt.plot(s3.df_cci.loc[50:,[\"Open\"]],label=\"ema\")\n",
    "# plt.plot(df.loc[50:,[\"Open\"]],label=\"price\")\n",
    "\n",
    "plt.legend()"
   ]
  },
  {
   "cell_type": "code",
   "execution_count": null,
   "metadata": {},
   "outputs": [],
   "source": []
  },
  {
   "cell_type": "code",
   "execution_count": null,
   "metadata": {},
   "outputs": [],
   "source": []
  },
  {
   "cell_type": "code",
   "execution_count": 180,
   "metadata": {},
   "outputs": [
    {
     "data": {
      "text/html": [
       "<div>\n",
       "<style scoped>\n",
       "    .dataframe tbody tr th:only-of-type {\n",
       "        vertical-align: middle;\n",
       "    }\n",
       "\n",
       "    .dataframe tbody tr th {\n",
       "        vertical-align: top;\n",
       "    }\n",
       "\n",
       "    .dataframe thead th {\n",
       "        text-align: right;\n",
       "    }\n",
       "</style>\n",
       "<table border=\"1\" class=\"dataframe\">\n",
       "  <thead>\n",
       "    <tr style=\"text-align: right;\">\n",
       "      <th></th>\n",
       "      <th>Date</th>\n",
       "      <th>Open</th>\n",
       "      <th>High</th>\n",
       "      <th>Low</th>\n",
       "      <th>Close</th>\n",
       "      <th>Adj Close</th>\n",
       "      <th>Volume</th>\n",
       "    </tr>\n",
       "  </thead>\n",
       "  <tbody>\n",
       "    <tr>\n",
       "      <th>0</th>\n",
       "      <td>2010-06-10</td>\n",
       "      <td>149.600006</td>\n",
       "      <td>151.673004</td>\n",
       "      <td>148.000000</td>\n",
       "      <td>150.735992</td>\n",
       "      <td>87.830688</td>\n",
       "      <td>19786860.0</td>\n",
       "    </tr>\n",
       "    <tr>\n",
       "      <th>1</th>\n",
       "      <td>2010-06-11</td>\n",
       "      <td>153.636002</td>\n",
       "      <td>154.544998</td>\n",
       "      <td>151.235992</td>\n",
       "      <td>153.817993</td>\n",
       "      <td>89.626503</td>\n",
       "      <td>20875124.0</td>\n",
       "    </tr>\n",
       "    <tr>\n",
       "      <th>2</th>\n",
       "      <td>2010-06-14</td>\n",
       "      <td>155.455002</td>\n",
       "      <td>156.182007</td>\n",
       "      <td>153.345001</td>\n",
       "      <td>155.209000</td>\n",
       "      <td>90.437012</td>\n",
       "      <td>15172570.0</td>\n",
       "    </tr>\n",
       "    <tr>\n",
       "      <th>3</th>\n",
       "      <td>2010-06-15</td>\n",
       "      <td>155.209000</td>\n",
       "      <td>157.244995</td>\n",
       "      <td>152.600006</td>\n",
       "      <td>156.382004</td>\n",
       "      <td>91.120491</td>\n",
       "      <td>14494937.0</td>\n",
       "    </tr>\n",
       "    <tr>\n",
       "      <th>4</th>\n",
       "      <td>2010-06-16</td>\n",
       "      <td>158.000000</td>\n",
       "      <td>159.981995</td>\n",
       "      <td>156.373001</td>\n",
       "      <td>159.408997</td>\n",
       "      <td>92.884247</td>\n",
       "      <td>20689290.0</td>\n",
       "    </tr>\n",
       "  </tbody>\n",
       "</table>\n",
       "</div>"
      ],
      "text/plain": [
       "         Date        Open        High         Low       Close  Adj Close  \\\n",
       "0  2010-06-10  149.600006  151.673004  148.000000  150.735992  87.830688   \n",
       "1  2010-06-11  153.636002  154.544998  151.235992  153.817993  89.626503   \n",
       "2  2010-06-14  155.455002  156.182007  153.345001  155.209000  90.437012   \n",
       "3  2010-06-15  155.209000  157.244995  152.600006  156.382004  91.120491   \n",
       "4  2010-06-16  158.000000  159.981995  156.373001  159.408997  92.884247   \n",
       "\n",
       "       Volume  \n",
       "0  19786860.0  \n",
       "1  20875124.0  \n",
       "2  15172570.0  \n",
       "3  14494937.0  \n",
       "4  20689290.0  "
      ]
     },
     "execution_count": 180,
     "metadata": {},
     "output_type": "execute_result"
    }
   ],
   "source": [
    "df.head()"
   ]
  },
  {
   "cell_type": "code",
   "execution_count": 181,
   "metadata": {},
   "outputs": [],
   "source": [
    "period9_high = df[\"High\"].rolling(9).max()\n",
    "period9_low = df[\"Low\"].rolling(9).min()\n",
    "tenkan_sen = (period9_high + period9_low) / 2\n",
    "\n",
    "# Kijun-sen (Base Line): (26-period high + 26-period low)/2))\n",
    "period26_high = df[\"High\"].rolling(26).max()\n",
    "period26_low = df[\"Low\"].rolling(26).min()\n",
    "kijun_sen = (period26_high + period26_low) / 2\n",
    "\n",
    "# Senkou Span A (Leading Span A): (Conversion Line + Base Line)/2))\n",
    "senkou_span_a = ((tenkan_sen + kijun_sen) / 2).shift(26)\n",
    "\n",
    "# Senkou Span B (Leading Span B): (52-period high + 52-period low)/2))\n",
    "period52_high = df[\"High\"].rolling(52).max()\n",
    "period52_low = df[\"Low\"].rolling(52).min()\n",
    "senkou_span_b = ((period52_high + period52_low) / 2).shift(26)"
   ]
  },
  {
   "cell_type": "code",
   "execution_count": 182,
   "metadata": {},
   "outputs": [
    {
     "data": {
      "text/plain": [
       "[]"
      ]
     },
     "execution_count": 182,
     "metadata": {},
     "output_type": "execute_result"
    },
    {
     "data": {
      "image/png": "[encoded data removed]",
      "text/plain": [
       "<Figure size 432x288 with 1 Axes>"
      ]
     },
     "metadata": {
      "needs_background": "light"
     },
     "output_type": "display_data"
    }
   ],
   "source": [
    "plt.plot(df[\"Open\"].tail(200),label=\"Open\")\n",
    "plt.plot(tenkan_sen.tail(200),label=\"tenkichimoku [-1]an_sen\")\n",
    "plt.plot(kijun_sen.tail(200),label=\"Kijun_sen\")\n",
    "plt.plot(senkou_span_a.tail(200),label=\"A\")\n",
    "plt.plot(senkou_span_b.tail(200),label=\"B\")\n",
    "# if()\n",
    "plt.fill_between(df.index,senkou_span_a,senkou_span_b,senkou_span_a>senkou_span_b)\n",
    "\n",
    "plt.legend()\n",
    "# plt.figure(figsize=(20,9))\n",
    "\n",
    "plt.plot(figsize=(15,10))\n",
    "\n"
   ]
  },
  {
   "cell_type": "code",
   "execution_count": 27,
   "metadata": {},
   "outputs": [],
   "source": [
    "class ICHIMOKU:\n",
    "    def init(self):\n",
    "        pass\n",
    "    def model(self,df):\n",
    "        self.ichimoku=df.copy()\n",
    "        period9_high = df[\"High\"].rolling(9).max()\n",
    "        period9_low = df[\"Low\"].rolling(9).min()\n",
    "        self.ichimoku[\"tenkan_sen\"] = (period9_high + period9_low) / 2\n",
    "        # Kijun-sen (Base Line): (26-period high + 26-period low)/2))\n",
    "        period26_high = df[\"High\"].rolling(26).max()\n",
    "        period26_low = df[\"Low\"].rolling(26).min()\n",
    "        self.ichimoku[\"kijun_sen\"] = (period26_high + period26_low) / 2\n",
    "        # Senkou Span A (Leading Span A): (Conversion Line + Base Line)/2))\n",
    "        self.ichimoku[\"senkou_span_a\"]= ((self.ichimoku[\"tenkan_sen\"] + self.ichimoku[\"kijun_sen\"]) / 2).shift(26)\n",
    "        # Senkou Span B (Leading Span B): (52-period high + 52-period low)/2))\n",
    "        period52_high = df[\"High\"].rolling(52).max()\n",
    "        period52_low = df[\"Low\"].rolling(52).min()\n",
    "        self.ichimoku[\"senkou_span_b\"] = ((period52_high + period52_low) / 2).shift(26)\n",
    "        self.flag=0\n",
    "    \n",
    "    def current(self):\n",
    "        last = self.ichimoku.shape[0]-1\n",
    "        if(self.flag==0 and self.ichimoku.loc[last,\"Open\"]>=self.ichimoku.loc[last,\"senkou_span_a\"] and self.ichimoku.loc[last,\"Open\"]>=self.ichimoku.loc[last,\"senkou_span_b\"]):\n",
    "            self.flag=1\n",
    "            print(\"Buy\")\n",
    "        elif(self.flag==1 and self.ichimoku.loc[last,\"Open\"] >= self.ichimoku.loc[last,\"kijun_sen\"]):\n",
    "            print(\"HOld\")\n",
    "        elif(self.flag==1 and self.ichimoku.loc[last,\"Open\"] < self.ichimoku.loc[last,\"kijun_sen\"]):\n",
    "            print(\"Sell\")\n",
    "            self.flag=0\n",
    "    def model_history(self,start,end,initial):\n",
    "        flag=0\n",
    "        profit=0\n",
    "        while(start<end):\n",
    "            if((self.ichimoku.loc[start,\"senkou_span_a\"]>self.ichimoku.loc[start,\"senkou_span_b\"]  and self.ichimoku.loc[start,\"Open\"]>self.ichimoku.loc[start,\"senkou_span_a\"])):\n",
    "                stocks_bought=initial/(self.ichimoku.loc[start,\"Open\"])\n",
    "                buy_price=self.ichimoku.loc[start,\"Open\"]\n",
    "                while(start<end and self.ichimoku.loc[start,\"Open\"] > self.ichimoku.loc[start-1,\"kijun_sen\"] and (self.ichimoku.loc[start,\"senkou_span_a\"]>self.ichimoku.loc[start,\"senkou_span_b\"])):\n",
    "                    if(self.ichimoku.loc[start,\"Open\"]<self.ichimoku.loc[start-1,\"kijun_sen\"] ):\n",
    "#                         print(start)\n",
    "                        break\n",
    "                    start=start+1\n",
    "                print(buy_price,self.ichimoku.loc[start,\"Open\"],start)\n",
    "                profit+=(self.ichimoku.loc[start,\"Open\"]-buy_price)*stocks_bought\n",
    "            start=start+1\n",
    "        print(\"Profit Earned in ICHIMOKU: %s (%s%%)\" % (profit,profit/initial*100))       \n",
    "                \n",
    "        \n",
    "        \n",
    "        \n",
    "        "
   ]
  },
  {
   "cell_type": "code",
   "execution_count": 28,
   "metadata": {},
   "outputs": [],
   "source": [
    "s4=ICHIMOKU()\n",
    "s4.model(df)"
   ]
  },
  {
   "cell_type": "code",
   "execution_count": 29,
   "metadata": {},
   "outputs": [
    {
     "name": "stdout",
     "output_type": "stream",
     "text": [
      "Buy\n"
     ]
    }
   ],
   "source": [
    "s4.current()"
   ]
  },
  {
   "cell_type": "code",
   "execution_count": 30,
   "metadata": {},
   "outputs": [
    {
     "data": {
      "text/plain": [
       "263.091003"
      ]
     },
     "execution_count": 30,
     "metadata": {},
     "output_type": "execute_result"
    }
   ],
   "source": [
    "df.loc[992,'Open']"
   ]
  },
  {
   "cell_type": "code",
   "execution_count": 31,
   "metadata": {},
   "outputs": [
    {
     "data": {
      "text/plain": [
       "2231"
      ]
     },
     "execution_count": 31,
     "metadata": {},
     "output_type": "execute_result"
    }
   ],
   "source": [
    "df.shape[0]-1"
   ]
  },
  {
   "cell_type": "code",
   "execution_count": 36,
   "metadata": {
    "scrolled": true
   },
   "outputs": [
    {
     "name": "stdout",
     "output_type": "stream",
     "text": [
      "242.044998 242.044998 1602\n",
      "251.81799300000003 251.09100299999997 1669\n",
      "249.09100299999997 249.09100299999997 1670\n",
      "250.136002 250.136002 1671\n",
      "255.544998 250.90899700000003 1677\n",
      "254.544998 249.955002 1697\n",
      "254.727005 250.81799300000003 1705\n",
      "265.091003 293.635986 1725\n",
      "292.72699 291.864014 1730\n",
      "289.954987 290.0 1749\n",
      "294.0 289.700012 1754\n",
      "295.600006 298.850006 1767\n",
      "303.899994 295.0 1771\n",
      "297.25 297.25 1772\n",
      "299.799988 299.799988 1773\n",
      "294.399994 294.399994 1774\n",
      "291.700012 291.899994 1801\n",
      "293.200012 299.799988 1826\n",
      "298.600006 303.0 1830\n",
      "312.049988 312.049988 1859\n",
      "308.0 308.0 1860\n",
      "303.850006 303.850006 1861\n",
      "310.399994 310.399994 1862\n",
      "309.200012 309.200012 1864\n",
      "314.100006 327.600006 1896\n",
      "315.25 315.25 1897\n",
      "335.350006 335.350006 1898\n",
      "332.549988 332.549988 1899\n",
      "325.0 325.0 1900\n",
      "328.850006 328.850006 1901\n",
      "317.0 317.0 1908\n",
      "325.0 325.0 1910\n",
      "327.0 327.0 1911\n",
      "295.5 295.5 1987\n",
      "299.799988 287.549988 1992\n",
      "Profit Earned in ICHIMOKU: 5761.383542215897 (5.7613835422158965%)\n"
     ]
    }
   ],
   "source": [
    "s4.model_history(1600,2000,100000)"
   ]
  },
  {
   "cell_type": "code",
   "execution_count": 202,
   "metadata": {},
   "outputs": [
    {
     "data": {
      "text/plain": [
       "<Figure size 288x144 with 0 Axes>"
      ]
     },
     "execution_count": 202,
     "metadata": {},
     "output_type": "execute_result"
    },
    {
     "data": {
      "image/png": "[encoded data removed]",
      "text/plain": [
       "<Figure size 432x288 with 1 Axes>"
      ]
     },
     "metadata": {
      "needs_background": "light"
     },
     "output_type": "display_data"
    },
    {
     "data": {
      "text/plain": [
       "<Figure size 288x144 with 0 Axes>"
      ]
     },
     "metadata": {},
     "output_type": "display_data"
    }
   ],
   "source": [
    "plt.plot(s4.ichimoku[\"Open\"].tail(500),label=\"Open\")\n",
    "plt.plot(s4.ichimoku[\"tenkan_sen\"].tail(500),label=\"tenkichimoku [-1]an_sen\")\n",
    "plt.plot(s4.ichimoku[\"kijun_sen\"].tail(500),label=\"Kijun_sen\")\n",
    "plt.plot(s4.ichimoku[\"senkou_span_a\"].tail(500),label=\"A\")\n",
    "plt.plot(s4.ichimoku[\"senkou_span_b\"].tail(500),label=\"B\")\n",
    "# if()\n",
    "# plt.fill_between(df.index,senkou_span_a,senkou_span_b,senkou_span_a>senkou_span_b)\n",
    "\n",
    "plt.legend()\n",
    "plt.figure(figsize=(4,2))\n",
    "\n",
    "# plt.plot(figsize=(15,10))"
   ]
  },
  {
   "cell_type": "code",
   "execution_count": null,
   "metadata": {},
   "outputs": [],
   "source": []
  }
 ],
 "metadata": {
  "kernelspec": {
   "display_name": "Python 3",
   "language": "python",
   "name": "python3"
  },
  "language_info": {
   "codemirror_mode": {
    "name": "ipython",
    "version": 3
   },
   "file_extension": ".py",
   "mimetype": "text/x-python",
   "name": "python",
   "nbconvert_exporter": "python",
   "pygments_lexer": "ipython3",
   "version": "3.6.7"
  }
 },
 "nbformat": 4,
 "nbformat_minor": 2
}
